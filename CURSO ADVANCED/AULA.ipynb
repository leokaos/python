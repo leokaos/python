{
 "cells": [
  {
   "cell_type": "code",
   "execution_count": 1,
   "metadata": {},
   "outputs": [],
   "source": [
    "import pandas as pd"
   ]
  },
  {
   "cell_type": "code",
   "execution_count": 2,
   "metadata": {},
   "outputs": [],
   "source": [
    "dados = pd.read_csv('creditcard.csv')"
   ]
  },
  {
   "cell_type": "code",
   "execution_count": 3,
   "metadata": {},
   "outputs": [
    {
     "name": "stdout",
     "output_type": "stream",
     "text": [
      "Número de transações:  284807\n",
      "Número de fraudes:  492 0.17\n",
      "Número de transações normais:  284315 99.83\n"
     ]
    }
   ],
   "source": [
    "n_transacoes = dados['Class'].count()\n",
    "n_fraudes = dados['Class'].sum()\n",
    "n_normais = n_transacoes - n_fraudes\n",
    "fraudes_porc = n_fraudes / n_transacoes\n",
    "normais_porc = n_normais / n_transacoes\n",
    "\n",
    "print(\"Número de transações: \", n_transacoes)\n",
    "print(\"Número de fraudes: \", n_fraudes, \"%.2f\" %(fraudes_porc*100))\n",
    "print(\"Número de transações normais: \", n_normais, \"%.2f\" %(normais_porc*100))"
   ]
  },
  {
   "cell_type": "code",
   "execution_count": 4,
   "metadata": {},
   "outputs": [],
   "source": [
    "from sklearn.model_selection import StratifiedShuffleSplit\n",
    "\n",
    "def executar_validador(X, y):\n",
    "\n",
    "    validador = StratifiedShuffleSplit(n_splits=1, test_size=0.1, random_state=0)\n",
    "\n",
    "    for treino_id, teste_id in validador.split(X, y):\n",
    "        X_train, X_test = X[treino_id], X[teste_id]\n",
    "        y_train, y_test = y[treino_id], y[teste_id]\n",
    "\n",
    "    return X_train, X_test, y_train, y_test"
   ]
  },
  {
   "cell_type": "code",
   "execution_count": 5,
   "metadata": {},
   "outputs": [],
   "source": [
    "from sklearn.tree import DecisionTreeClassifier\n",
    "\n",
    "def executar_classificador(classificador, X_train, X_test, y_train):\n",
    "    arvore = classificador.fit(X_train, y_train)\n",
    "    y_predict = arvore.predict(X_test)\n",
    "    return y_predict"
   ]
  },
  {
   "cell_type": "code",
   "execution_count": 6,
   "metadata": {},
   "outputs": [],
   "source": [
    "from sklearn.tree import plot_tree\n",
    "import matplotlib.pyplot as plt\n",
    "\n",
    "\n",
    "def salvar_arvore(classificador, nome):\n",
    "    plt.figure(figsize=(200, 100))\n",
    "    plot_tree(classificador, filled=True, fontsize=14)\n",
    "    plt.savefig(nome)\n",
    "    plt.close()"
   ]
  },
  {
   "cell_type": "code",
   "execution_count": 7,
   "metadata": {},
   "outputs": [],
   "source": [
    "from sklearn.metrics import accuracy_score, confusion_matrix, precision_score, recall_score\n",
    "\n",
    "def validar_arvore(y_predict, y_test):\n",
    "    print(\"acurácia:\", accuracy_score(y_test, y_predict))\n",
    "    print(\"precisao\", precision_score(y_test, y_predict))\n",
    "    print(\"recall\", recall_score(y_test, y_predict))\n",
    "    print(\"matriz de confusão\", confusion_matrix(y_test, y_predict))"
   ]
  },
  {
   "cell_type": "code",
   "execution_count": 8,
   "metadata": {},
   "outputs": [],
   "source": [
    "X = dados.drop('Class', axis=1).values\n",
    "y = dados['Class'].values\n",
    "\n",
    "classificador = DecisionTreeClassifier()\n",
    "\n",
    "X_train, X_test, y_train, y_test = executar_validador(X, y)\n",
    "y_predict = executar_classificador(classificador, X_train, X_test, y_train)"
   ]
  },
  {
   "cell_type": "code",
   "execution_count": 9,
   "metadata": {},
   "outputs": [
    {
     "name": "stdout",
     "output_type": "stream",
     "text": [
      "acurácia: 0.9991222218320986\n",
      "precisao 0.7727272727272727\n",
      "recall 0.6938775510204082\n",
      "matriz de confusão [[28422    10]\n",
      " [   15    34]]\n"
     ]
    }
   ],
   "source": [
    "validar_arvore(y_predict, y_test)"
   ]
  },
  {
   "cell_type": "code",
   "execution_count": 10,
   "metadata": {},
   "outputs": [
    {
     "data": {
      "text/plain": [
       "<sklearn.metrics._plot.confusion_matrix.ConfusionMatrixDisplay at 0x23f19dbf210>"
      ]
     },
     "execution_count": 10,
     "metadata": {},
     "output_type": "execute_result"
    },
    {
     "data": {
      "image/png": "[encoded data removed]",
      "text/plain": [
       "<Figure size 640x480 with 2 Axes>"
      ]
     },
     "metadata": {},
     "output_type": "display_data"
    }
   ],
   "source": [
    "from sklearn.metrics import ConfusionMatrixDisplay\n",
    "\n",
    "disp = ConfusionMatrixDisplay(confusion_matrix=confusion_matrix(y_test, y_predict), display_labels=['Não Fraude', 'Fraude'])\n",
    "disp.plot()"
   ]
  },
  {
   "cell_type": "code",
   "execution_count": 11,
   "metadata": {},
   "outputs": [],
   "source": [
    "classificador_com_10 = DecisionTreeClassifier(max_depth=10, random_state=0)\n",
    "\n",
    "X_train, X_test, y_train, y_test = executar_validador(X, y)\n",
    "y_predict = executar_classificador(classificador_com_10, X_train, X_test, y_train)"
   ]
  },
  {
   "cell_type": "code",
   "execution_count": 12,
   "metadata": {},
   "outputs": [
    {
     "name": "stdout",
     "output_type": "stream",
     "text": [
      "acurácia: 0.9994733330992591\n",
      "precisao 0.9473684210526315\n",
      "recall 0.7346938775510204\n",
      "matriz de confusão [[28430     2]\n",
      " [   13    36]]\n"
     ]
    }
   ],
   "source": [
    "validar_arvore(y_predict, y_test)"
   ]
  },
  {
   "cell_type": "code",
   "execution_count": 13,
   "metadata": {},
   "outputs": [],
   "source": [
    "classificador_com_10_min_folhas = DecisionTreeClassifier(max_depth=10, random_state=0, min_samples_leaf=10)\n",
    "\n",
    "X_train, X_test, y_train, y_test = executar_validador(X, y)\n",
    "y_predict = executar_classificador(classificador_com_10_min_folhas, X_train, X_test, y_train)"
   ]
  },
  {
   "cell_type": "code",
   "execution_count": 14,
   "metadata": {},
   "outputs": [
    {
     "name": "stdout",
     "output_type": "stream",
     "text": [
      "acurácia: 0.9993679997191109\n",
      "precisao 0.8604651162790697\n",
      "recall 0.7551020408163265\n",
      "matriz de confusão [[28426     6]\n",
      " [   12    37]]\n"
     ]
    }
   ],
   "source": [
    "validar_arvore(y_predict, y_test)"
   ]
  },
  {
   "cell_type": "code",
   "execution_count": 15,
   "metadata": {},
   "outputs": [],
   "source": [
    "classificador_com_5 = DecisionTreeClassifier(max_depth=5, random_state=0)\n",
    "\n",
    "X_train, X_test, y_train, y_test = executar_validador(X, y)\n",
    "y_predict = executar_classificador(classificador_com_5, X_train, X_test, y_train)"
   ]
  },
  {
   "cell_type": "code",
   "execution_count": 16,
   "metadata": {},
   "outputs": [
    {
     "name": "stdout",
     "output_type": "stream",
     "text": [
      "acurácia: 0.999403110845827\n",
      "precisao 0.9210526315789473\n",
      "recall 0.7142857142857143\n",
      "matriz de confusão [[28429     3]\n",
      " [   14    35]]\n"
     ]
    }
   ],
   "source": [
    "validar_arvore(y_predict, y_test)"
   ]
  },
  {
   "cell_type": "code",
   "execution_count": 17,
   "metadata": {},
   "outputs": [],
   "source": [
    "from sklearn.ensemble import RandomForestClassifier\n",
    "\n",
    "florest = RandomForestClassifier(n_estimators=50, random_state=0, max_depth=10)\n",
    "y_pred_florest = executar_classificador(florest, X_train, X_test, y_train)"
   ]
  },
  {
   "cell_type": "code",
   "execution_count": 18,
   "metadata": {},
   "outputs": [
    {
     "name": "stdout",
     "output_type": "stream",
     "text": [
      "acurácia: 0.9995435553526912\n",
      "precisao 0.9736842105263158\n",
      "recall 0.7551020408163265\n",
      "matriz de confusão [[28431     1]\n",
      " [   12    37]]\n"
     ]
    }
   ],
   "source": [
    "validar_arvore(y_pred_florest, y_test)"
   ]
  },
  {
   "cell_type": "code",
   "execution_count": 23,
   "metadata": {},
   "outputs": [],
   "source": [
    "from sklearn.ensemble import AdaBoostClassifier\n",
    "\n",
    "classificador_adaboost = AdaBoostClassifier(random_state=0, n_estimators=100)\n",
    "y_pred_adaboost = executar_classificador(classificador_adaboost, X_train, X_test, y_train)"
   ]
  },
  {
   "cell_type": "code",
   "execution_count": 24,
   "metadata": {},
   "outputs": [],
   "source": [
    "salvar_arvore(classificador_adaboost.estimators_[0],\"adaboost0.png\")\n",
    "salvar_arvore(classificador_adaboost.estimators_[1],\"adaboost1.png\")"
   ]
  },
  {
   "cell_type": "code",
   "execution_count": 25,
   "metadata": {},
   "outputs": [
    {
     "name": "stdout",
     "output_type": "stream",
     "text": [
      "acurácia: 0.999403110845827\n",
      "precisao 0.8636363636363636\n",
      "recall 0.7755102040816326\n",
      "matriz de confusão [[28426     6]\n",
      " [   11    38]]\n"
     ]
    }
   ],
   "source": [
    "validar_arvore(y_pred_adaboost, y_test)"
   ]
  }
 ],
 "metadata": {
  "kernelspec": {
   "display_name": "Python 3",
   "language": "python",
   "name": "python3"
  },
  "language_info": {
   "codemirror_mode": {
    "name": "ipython",
    "version": 3
   },
   "file_extension": ".py",
   "mimetype": "text/x-python",
   "name": "python",
   "nbconvert_exporter": "python",
   "pygments_lexer": "ipython3",
   "version": "3.11.2"
  }
 },
 "nbformat": 4,
 "nbformat_minor": 2
}
