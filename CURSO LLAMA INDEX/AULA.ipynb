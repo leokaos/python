{
 "cells": [
  {
   "cell_type": "code",
   "execution_count": 5,
   "id": "dfd924d7",
   "metadata": {},
   "outputs": [],
   "source": [
    "from os import environ\n",
    "import dotenv\n",
    "\n",
    "dotenv.load_dotenv(\"../.env\")\n",
    "GROQ_API=environ.get('GROQ_API')"
   ]
  },
  {
   "cell_type": "code",
   "execution_count": 6,
   "id": "78224cbb",
   "metadata": {},
   "outputs": [],
   "source": [
    "import pandas as pd"
   ]
  },
  {
   "cell_type": "code",
   "execution_count": 7,
   "id": "acd01d9c",
   "metadata": {},
   "outputs": [],
   "source": [
    "df = pd.read_csv(\"vendas.csv\")"
   ]
  },
  {
   "cell_type": "code",
   "execution_count": 8,
   "id": "0ee733e6",
   "metadata": {},
   "outputs": [
    {
     "data": {
      "text/html": [
       "<div>\n",
       "<style scoped>\n",
       "    .dataframe tbody tr th:only-of-type {\n",
       "        vertical-align: middle;\n",
       "    }\n",
       "\n",
       "    .dataframe tbody tr th {\n",
       "        vertical-align: top;\n",
       "    }\n",
       "\n",
       "    .dataframe thead th {\n",
       "        text-align: right;\n",
       "    }\n",
       "</style>\n",
       "<table border=\"1\" class=\"dataframe\">\n",
       "  <thead>\n",
       "    <tr style=\"text-align: right;\">\n",
       "      <th></th>\n",
       "      <th>ID_compra</th>\n",
       "      <th>filial</th>\n",
       "      <th>cidade</th>\n",
       "      <th>tipo_cliente</th>\n",
       "      <th>genero</th>\n",
       "      <th>tipo_produto</th>\n",
       "      <th>preco_unitario</th>\n",
       "      <th>quantidade</th>\n",
       "      <th>imposto_5%</th>\n",
       "      <th>total</th>\n",
       "      <th>data</th>\n",
       "      <th>hora</th>\n",
       "      <th>forma_pagamento</th>\n",
       "      <th>avaliacao</th>\n",
       "    </tr>\n",
       "  </thead>\n",
       "  <tbody>\n",
       "    <tr>\n",
       "      <th>0</th>\n",
       "      <td>750-67-8428</td>\n",
       "      <td>A</td>\n",
       "      <td>Santo André</td>\n",
       "      <td>Membro</td>\n",
       "      <td>Feminino</td>\n",
       "      <td>Saúde e Beleza</td>\n",
       "      <td>74.69</td>\n",
       "      <td>7</td>\n",
       "      <td>26.1415</td>\n",
       "      <td>548.9715</td>\n",
       "      <td>2024-01-05</td>\n",
       "      <td>13:08:00</td>\n",
       "      <td>Carteira Digital</td>\n",
       "      <td>9.1</td>\n",
       "    </tr>\n",
       "    <tr>\n",
       "      <th>1</th>\n",
       "      <td>226-31-3081</td>\n",
       "      <td>C</td>\n",
       "      <td>São Caetano</td>\n",
       "      <td>Normal</td>\n",
       "      <td>Feminino</td>\n",
       "      <td>Eletrônicos</td>\n",
       "      <td>15.28</td>\n",
       "      <td>5</td>\n",
       "      <td>3.8200</td>\n",
       "      <td>80.2200</td>\n",
       "      <td>2024-03-08</td>\n",
       "      <td>10:29:00</td>\n",
       "      <td>Dinheiro</td>\n",
       "      <td>9.6</td>\n",
       "    </tr>\n",
       "    <tr>\n",
       "      <th>2</th>\n",
       "      <td>631-41-3108</td>\n",
       "      <td>A</td>\n",
       "      <td>Santo André</td>\n",
       "      <td>Normal</td>\n",
       "      <td>Masculino</td>\n",
       "      <td>Casa</td>\n",
       "      <td>46.33</td>\n",
       "      <td>7</td>\n",
       "      <td>16.2155</td>\n",
       "      <td>340.5255</td>\n",
       "      <td>2024-03-03</td>\n",
       "      <td>13:23:00</td>\n",
       "      <td>Cartão de Crédito</td>\n",
       "      <td>7.4</td>\n",
       "    </tr>\n",
       "    <tr>\n",
       "      <th>3</th>\n",
       "      <td>123-19-1176</td>\n",
       "      <td>A</td>\n",
       "      <td>Santo André</td>\n",
       "      <td>Membro</td>\n",
       "      <td>Masculino</td>\n",
       "      <td>Saúde e Beleza</td>\n",
       "      <td>58.22</td>\n",
       "      <td>8</td>\n",
       "      <td>23.2880</td>\n",
       "      <td>489.0480</td>\n",
       "      <td>2024-01-27</td>\n",
       "      <td>20:33:00</td>\n",
       "      <td>Carteira Digital</td>\n",
       "      <td>8.4</td>\n",
       "    </tr>\n",
       "    <tr>\n",
       "      <th>4</th>\n",
       "      <td>373-73-7910</td>\n",
       "      <td>A</td>\n",
       "      <td>Santo André</td>\n",
       "      <td>Normal</td>\n",
       "      <td>Masculino</td>\n",
       "      <td>Esportes e Viagem</td>\n",
       "      <td>86.31</td>\n",
       "      <td>7</td>\n",
       "      <td>30.2085</td>\n",
       "      <td>634.3785</td>\n",
       "      <td>2024-02-08</td>\n",
       "      <td>10:37:00</td>\n",
       "      <td>Carteira Digital</td>\n",
       "      <td>5.3</td>\n",
       "    </tr>\n",
       "  </tbody>\n",
       "</table>\n",
       "</div>"
      ],
      "text/plain": [
       "     ID_compra filial       cidade tipo_cliente     genero       tipo_produto  \\\n",
       "0  750-67-8428      A  Santo André       Membro   Feminino     Saúde e Beleza   \n",
       "1  226-31-3081      C  São Caetano       Normal   Feminino        Eletrônicos   \n",
       "2  631-41-3108      A  Santo André       Normal  Masculino               Casa   \n",
       "3  123-19-1176      A  Santo André       Membro  Masculino     Saúde e Beleza   \n",
       "4  373-73-7910      A  Santo André       Normal  Masculino  Esportes e Viagem   \n",
       "\n",
       "   preco_unitario  quantidade  imposto_5%     total        data      hora  \\\n",
       "0           74.69           7     26.1415  548.9715  2024-01-05  13:08:00   \n",
       "1           15.28           5      3.8200   80.2200  2024-03-08  10:29:00   \n",
       "2           46.33           7     16.2155  340.5255  2024-03-03  13:23:00   \n",
       "3           58.22           8     23.2880  489.0480  2024-01-27  20:33:00   \n",
       "4           86.31           7     30.2085  634.3785  2024-02-08  10:37:00   \n",
       "\n",
       "     forma_pagamento  avaliacao  \n",
       "0   Carteira Digital        9.1  \n",
       "1           Dinheiro        9.6  \n",
       "2  Cartão de Crédito        7.4  \n",
       "3   Carteira Digital        8.4  \n",
       "4   Carteira Digital        5.3  "
      ]
     },
     "execution_count": 8,
     "metadata": {},
     "output_type": "execute_result"
    }
   ],
   "source": [
    "df.head()"
   ]
  },
  {
   "cell_type": "code",
   "execution_count": 9,
   "id": "05ec551b",
   "metadata": {},
   "outputs": [
    {
     "name": "stdout",
     "output_type": "stream",
     "text": [
      "<class 'pandas.core.frame.DataFrame'>\n",
      "RangeIndex: 1000 entries, 0 to 999\n",
      "Data columns (total 14 columns):\n",
      " #   Column           Non-Null Count  Dtype  \n",
      "---  ------           --------------  -----  \n",
      " 0   ID_compra        1000 non-null   object \n",
      " 1   filial           1000 non-null   object \n",
      " 2   cidade           1000 non-null   object \n",
      " 3   tipo_cliente     1000 non-null   object \n",
      " 4   genero           1000 non-null   object \n",
      " 5   tipo_produto     1000 non-null   object \n",
      " 6   preco_unitario   1000 non-null   float64\n",
      " 7   quantidade       1000 non-null   int64  \n",
      " 8   imposto_5%       1000 non-null   float64\n",
      " 9   total            1000 non-null   float64\n",
      " 10  data             1000 non-null   object \n",
      " 11  hora             1000 non-null   object \n",
      " 12  forma_pagamento  1000 non-null   object \n",
      " 13  avaliacao        1000 non-null   float64\n",
      "dtypes: float64(4), int64(1), object(9)\n",
      "memory usage: 109.5+ KB\n"
     ]
    }
   ],
   "source": [
    "df.info()"
   ]
  },
  {
   "cell_type": "code",
   "execution_count": 10,
   "id": "dd879872",
   "metadata": {},
   "outputs": [
    {
     "data": {
      "text/plain": [
       "np.int64(0)"
      ]
     },
     "execution_count": 10,
     "metadata": {},
     "output_type": "execute_result"
    }
   ],
   "source": [
    "df.duplicated().sum()"
   ]
  },
  {
   "cell_type": "code",
   "execution_count": 11,
   "id": "9811ab7e",
   "metadata": {},
   "outputs": [],
   "source": [
    "from llama_index.core import Settings\n",
    "from llama_index.llms.groq import Groq\n",
    "\n",
    "Settings.llm = Groq(model='llama-3.3-70b-versatile', api_key=GROQ_API)"
   ]
  },
  {
   "cell_type": "code",
   "execution_count": 12,
   "id": "f5adfbb7",
   "metadata": {},
   "outputs": [],
   "source": [
    "from llama_index.core import Settings"
   ]
  },
  {
   "cell_type": "code",
   "execution_count": 13,
   "id": "5295b35b",
   "metadata": {},
   "outputs": [],
   "source": [
    "from llama_index.experimental.query_engine import PandasQueryEngine"
   ]
  },
  {
   "cell_type": "code",
   "execution_count": 14,
   "id": "54238139",
   "metadata": {},
   "outputs": [],
   "source": [
    "query_engine = PandasQueryEngine(df=df, verbose=True)"
   ]
  },
  {
   "cell_type": "code",
   "execution_count": 15,
   "id": "a5df6610",
   "metadata": {},
   "outputs": [
    {
     "name": "stdout",
     "output_type": "stream",
     "text": [
      "INFO:httpx:HTTP Request: POST https://api.groq.com/openai/v1/chat/completions \"HTTP/1.1 200 OK\"\n",
      "HTTP Request: POST https://api.groq.com/openai/v1/chat/completions \"HTTP/1.1 200 OK\"\n",
      "> Pandas Instructions:\n",
      "```\n",
      "df['forma_pagamento'].mode()[0]\n",
      "```\n",
      "> Pandas Output: Carteira Digital\n"
     ]
    }
   ],
   "source": [
    "response = query_engine.query(\"qual a forma de pagamento mais utilizada pelos clientes?\")"
   ]
  },
  {
   "cell_type": "code",
   "execution_count": 11,
   "id": "3cdaaa7c",
   "metadata": {},
   "outputs": [
    {
     "data": {
      "text/plain": [
       "forma_pagamento\n",
       "Carteira Digital     345\n",
       "Dinheiro             344\n",
       "Cartão de Crédito    311\n",
       "Name: count, dtype: int64"
      ]
     },
     "execution_count": 11,
     "metadata": {},
     "output_type": "execute_result"
    }
   ],
   "source": [
    "df['forma_pagamento'].value_counts()"
   ]
  },
  {
   "cell_type": "code",
   "execution_count": 12,
   "id": "71b1fa36",
   "metadata": {},
   "outputs": [
    {
     "name": "stdout",
     "output_type": "stream",
     "text": [
      "INFO:httpx:HTTP Request: POST https://api.groq.com/openai/v1/chat/completions \"HTTP/1.1 200 OK\"\n",
      "HTTP Request: POST https://api.groq.com/openai/v1/chat/completions \"HTTP/1.1 200 OK\"\n",
      "> Pandas Instructions:\n",
      "```\n",
      "df.groupby('filial')['tipo_produto'].value_counts().groupby(level=0).apply(lambda x: x.idxmax())\n",
      "```\n",
      "> Pandas Output: filial\n",
      "A                   (A, Casa)\n",
      "B      (B, Esportes e Viagem)\n",
      "C    (C, Alimentos e Bebidas)\n",
      "Name: count, dtype: object\n"
     ]
    }
   ],
   "source": [
    "response = query_engine.query('Qual é o tipo de produto com maior quantidade por filial?')"
   ]
  },
  {
   "cell_type": "code",
   "execution_count": 13,
   "id": "53a9dceb",
   "metadata": {},
   "outputs": [
    {
     "name": "stdout",
     "output_type": "stream",
     "text": [
      "INFO:httpx:HTTP Request: POST https://api.groq.com/openai/v1/chat/completions \"HTTP/1.1 200 OK\"\n",
      "HTTP Request: POST https://api.groq.com/openai/v1/chat/completions \"HTTP/1.1 200 OK\"\n",
      "> Pandas Instructions:\n",
      "```\n",
      "df['cidade'].unique()\n",
      "```\n",
      "> Pandas Output: ['Santo André' 'São Caetano' 'São Bernardo do Campo']\n"
     ]
    },
    {
     "data": {
      "text/plain": [
       "\"['Santo André' 'São Caetano' 'São Bernardo do Campo']\""
      ]
     },
     "execution_count": 13,
     "metadata": {},
     "output_type": "execute_result"
    }
   ],
   "source": [
    "query_engine.query('Em quais cidades temos filiais?').response"
   ]
  },
  {
   "cell_type": "code",
   "execution_count": 14,
   "id": "778b65a6",
   "metadata": {},
   "outputs": [
    {
     "name": "stdout",
     "output_type": "stream",
     "text": [
      "INFO:httpx:HTTP Request: POST https://api.groq.com/openai/v1/chat/completions \"HTTP/1.1 200 OK\"\n",
      "HTTP Request: POST https://api.groq.com/openai/v1/chat/completions \"HTTP/1.1 200 OK\"\n",
      "> Pandas Instructions:\n",
      "```\n",
      "df.groupby('tipo_produto')['preco_unitario'].mean()\n",
      "```\n",
      "> Pandas Output: tipo_produto\n",
      "Alimentos e Bebidas    56.008851\n",
      "Casa                   55.316937\n",
      "Eletrônicos            53.551588\n",
      "Esportes e Viagem      56.993253\n",
      "Moda                   57.153652\n",
      "Saúde e Beleza         54.854474\n",
      "Name: preco_unitario, dtype: float64\n"
     ]
    },
    {
     "data": {
      "text/plain": [
       "'tipo_produto\\nAlimentos e Bebidas    56.008851\\nCasa                   55.316937\\nEletrônicos            53.551588\\nEsportes e Viagem      56.993253\\nModa                   57.153652\\nSaúde e Beleza         54.854474\\nName: preco_unitario, dtype: float64'"
      ]
     },
     "execution_count": 14,
     "metadata": {},
     "output_type": "execute_result"
    }
   ],
   "source": [
    "query_engine.query('Qual é o preço unitário médio de cada tipo de produto?').response"
   ]
  },
  {
   "cell_type": "code",
   "execution_count": 15,
   "id": "726af3b6",
   "metadata": {},
   "outputs": [
    {
     "name": "stdout",
     "output_type": "stream",
     "text": [
      "INFO:httpx:HTTP Request: POST https://api.groq.com/openai/v1/chat/completions \"HTTP/1.1 200 OK\"\n",
      "HTTP Request: POST https://api.groq.com/openai/v1/chat/completions \"HTTP/1.1 200 OK\"\n",
      "> Pandas Instructions:\n",
      "```\n",
      "df.groupby('tipo_cliente')['total'].mean()\n",
      "```\n",
      "> Pandas Output: tipo_cliente\n",
      "Membro    327.791305\n",
      "Normal    318.122856\n",
      "Name: total, dtype: float64\n"
     ]
    },
    {
     "data": {
      "text/plain": [
       "'tipo_cliente\\nMembro    327.791305\\nNormal    318.122856\\nName: total, dtype: float64'"
      ]
     },
     "execution_count": 15,
     "metadata": {},
     "output_type": "execute_result"
    }
   ],
   "source": [
    "query_engine.query('Qual é a média de valor de compra por tipo de cliente?').response"
   ]
  },
  {
   "cell_type": "code",
   "execution_count": 16,
   "id": "5261c60c",
   "metadata": {},
   "outputs": [
    {
     "name": "stdout",
     "output_type": "stream",
     "text": [
      "INFO:httpx:HTTP Request: POST https://api.groq.com/openai/v1/chat/completions \"HTTP/1.1 200 OK\"\n",
      "HTTP Request: POST https://api.groq.com/openai/v1/chat/completions \"HTTP/1.1 200 OK\"\n",
      "> Pandas Instructions:\n",
      "```\n",
      "df.groupby('filial')['total'].sum().idxmax()\n",
      "```\n",
      "> Pandas Output: C\n"
     ]
    },
    {
     "data": {
      "text/plain": [
       "'C'"
      ]
     },
     "execution_count": 16,
     "metadata": {},
     "output_type": "execute_result"
    }
   ],
   "source": [
    "query_engine.query('Qual é a filial com maior faturamento?ss').response"
   ]
  },
  {
   "cell_type": "code",
   "execution_count": 17,
   "id": "ac8e01b4",
   "metadata": {},
   "outputs": [],
   "source": [
    "query_engine = PandasQueryEngine(df=df, verbose=True, synthesize_response=True)"
   ]
  },
  {
   "cell_type": "code",
   "execution_count": 18,
   "id": "cf991b49",
   "metadata": {},
   "outputs": [
    {
     "name": "stdout",
     "output_type": "stream",
     "text": [
      "INFO:httpx:HTTP Request: POST https://api.groq.com/openai/v1/chat/completions \"HTTP/1.1 200 OK\"\n",
      "HTTP Request: POST https://api.groq.com/openai/v1/chat/completions \"HTTP/1.1 200 OK\"\n",
      "> Pandas Instructions:\n",
      "```\n",
      "df.groupby('filial')['avaliacao'].mean()\n",
      "```\n",
      "> Pandas Output: filial\n",
      "A    7.027059\n",
      "B    6.818072\n",
      "C    7.072866\n",
      "Name: avaliacao, dtype: float64\n",
      "INFO:httpx:HTTP Request: POST https://api.groq.com/openai/v1/chat/completions \"HTTP/1.1 200 OK\"\n",
      "HTTP Request: POST https://api.groq.com/openai/v1/chat/completions \"HTTP/1.1 200 OK\"\n",
      "A avaliação média de cada filial é a seguinte: \n",
      "- Filial A: 7.03\n",
      "- Filial B: 6.82\n",
      "- Filial C: 7.07\n",
      "\n",
      "Esses valores indicam a média das avaliações recebidas por cada filial, fornecendo uma visão geral do desempenho de cada uma.\n"
     ]
    }
   ],
   "source": [
    "response = query_engine.query('Qual é a avaliação média de cada filial?')\n",
    "print(str(response))"
   ]
  },
  {
   "cell_type": "code",
   "execution_count": 19,
   "id": "03e30639",
   "metadata": {},
   "outputs": [],
   "source": [
    "import textwrap\n",
    "\n",
    "def formatar_texto(response):\n",
    "    texto = response.response\n",
    "    texto_formatado = textwrap.fill(texto, width=100)\n",
    "    print(texto_formatado)"
   ]
  },
  {
   "cell_type": "code",
   "execution_count": 20,
   "id": "ec97d10a",
   "metadata": {},
   "outputs": [
    {
     "name": "stdout",
     "output_type": "stream",
     "text": [
      "A avaliação média de cada filial é a seguinte:  - Filial A: 7.03 - Filial B: 6.82 - Filial C: 7.07\n",
      "Esses valores indicam a média das avaliações recebidas por cada filial, fornecendo uma visão geral\n",
      "do desempenho de cada uma.\n"
     ]
    }
   ],
   "source": [
    "formatar_texto(response)"
   ]
  },
  {
   "cell_type": "code",
   "execution_count": 21,
   "id": "0f5f7c95",
   "metadata": {},
   "outputs": [
    {
     "name": "stdout",
     "output_type": "stream",
     "text": [
      "INFO:httpx:HTTP Request: POST https://api.groq.com/openai/v1/chat/completions \"HTTP/1.1 200 OK\"\n",
      "HTTP Request: POST https://api.groq.com/openai/v1/chat/completions \"HTTP/1.1 200 OK\"\n",
      "> Pandas Instructions:\n",
      "```\n",
      "df.groupby('filial')['avaliacao'].mean().sort_values(ascending=False)\n",
      "```\n",
      "> Pandas Output: filial\n",
      "C    7.072866\n",
      "A    7.027059\n",
      "B    6.818072\n",
      "Name: avaliacao, dtype: float64\n",
      "INFO:httpx:HTTP Request: POST https://api.groq.com/openai/v1/chat/completions \"HTTP/1.1 200 OK\"\n",
      "HTTP Request: POST https://api.groq.com/openai/v1/chat/completions \"HTTP/1.1 200 OK\"\n",
      "A avaliação média de cada filial, em ordem da maior para a menor, é a seguinte:\n",
      "\n",
      "- Filial C: 7.07\n",
      "- Filial A: 7.03\n",
      "- Filial B: 6.82\n",
      "\n",
      "Esses valores indicam que a filial C tem a avaliação média mais alta, seguida pela filial A e, por fim, pela filial B.\n"
     ]
    }
   ],
   "source": [
    "response = query_engine.query('Qual é a avaliação média de cada filial? Ordene da maior para a menor')\n",
    "print(response.response)"
   ]
  },
  {
   "cell_type": "code",
   "execution_count": 22,
   "id": "a60f1c67",
   "metadata": {},
   "outputs": [
    {
     "name": "stdout",
     "output_type": "stream",
     "text": [
      "INFO:httpx:HTTP Request: POST https://api.groq.com/openai/v1/chat/completions \"HTTP/1.1 200 OK\"\n",
      "HTTP Request: POST https://api.groq.com/openai/v1/chat/completions \"HTTP/1.1 200 OK\"\n",
      "> Pandas Instructions:\n",
      "```\n",
      "df['avaliacao'].value_counts()\n",
      "```\n",
      "> Pandas Output: avaliacao\n",
      "6.0     26\n",
      "6.6     24\n",
      "9.5     22\n",
      "4.2     22\n",
      "5.1     21\n",
      "        ..\n",
      "5.3     11\n",
      "8.3     11\n",
      "4.0     11\n",
      "4.6      8\n",
      "10.0     5\n",
      "Name: count, Length: 61, dtype: int64\n",
      "INFO:httpx:HTTP Request: POST https://api.groq.com/openai/v1/chat/completions \"HTTP/1.1 200 OK\"\n",
      "HTTP Request: POST https://api.groq.com/openai/v1/chat/completions \"HTTP/1.1 200 OK\"\n",
      "Sim, posso exibir a distribuição das avaliações. Com base nos resultados, podemos observar que as\n",
      "avaliações mais comuns são:  - 6.0, que aparece 26 vezes - 6.6, que aparece 24 vezes - 9.5 e 4.2,\n",
      "que ambos aparecem 22 vezes - 5.1, que aparece 21 vezes  As avaliações menos comuns incluem: - 5.3,\n",
      "8.3 e 4.0, que aparecem 11 vezes cada - 4.6, que aparece 8 vezes - 10.0, que aparece apenas 5 vezes\n",
      "Essa distribuição mostra uma variedade de avaliações, com um número significativo de ocorrências\n",
      "para várias notas, indicando uma diversidade nas opiniões ou classificações.\n"
     ]
    }
   ],
   "source": [
    "response = query_engine.query('Você pode exibir a distribuição das avaliações?')\n",
    "formatar_texto(response)"
   ]
  },
  {
   "cell_type": "code",
   "execution_count": 23,
   "id": "575b7fca",
   "metadata": {},
   "outputs": [
    {
     "name": "stdout",
     "output_type": "stream",
     "text": [
      "INFO:httpx:HTTP Request: POST https://api.groq.com/openai/v1/chat/completions \"HTTP/1.1 200 OK\"\n",
      "HTTP Request: POST https://api.groq.com/openai/v1/chat/completions \"HTTP/1.1 200 OK\"\n",
      "> Pandas Instructions:\n",
      "```\n",
      "df['avaliacao'].plot.hist(bins=10, figsize=(10, 6), title='Distribuição das Avaliações')\n",
      "```\n",
      "> Pandas Output: There was an error running the output as Python code. Error message: matplotlib is required for plotting when the default backend \"matplotlib\" is selected.\n"
     ]
    },
    {
     "name": "stderr",
     "output_type": "stream",
     "text": [
      "Traceback (most recent call last):\n",
      "  File \"c:\\Users\\leoka\\AppData\\Local\\Programs\\Python\\Python313\\Lib\\site-packages\\llama_index\\experimental\\query_engine\\pandas\\output_parser.py\", line 63, in default_output_processor\n",
      "    output_str = str(safe_eval(module_end_str, global_vars, local_vars))\n",
      "                     ~~~~~~~~~^^^^^^^^^^^^^^^^^^^^^^^^^^^^^^^^^^^^^^^^^\n",
      "  File \"c:\\Users\\leoka\\AppData\\Local\\Programs\\Python\\Python313\\Lib\\site-packages\\llama_index\\experimental\\exec_utils.py\", line 159, in safe_eval\n",
      "    return eval(__source, _get_restricted_globals(__globals), __locals)\n",
      "  File \"<string>\", line 1, in <module>\n",
      "  File \"c:\\Users\\leoka\\AppData\\Local\\Programs\\Python\\Python313\\Lib\\site-packages\\pandas\\plotting\\_core.py\", line 1409, in hist\n",
      "    return self(kind=\"hist\", by=by, bins=bins, **kwargs)\n",
      "  File \"c:\\Users\\leoka\\AppData\\Local\\Programs\\Python\\Python313\\Lib\\site-packages\\pandas\\plotting\\_core.py\", line 947, in __call__\n",
      "    plot_backend = _get_plot_backend(kwargs.pop(\"backend\", None))\n",
      "  File \"c:\\Users\\leoka\\AppData\\Local\\Programs\\Python\\Python313\\Lib\\site-packages\\pandas\\plotting\\_core.py\", line 1944, in _get_plot_backend\n",
      "    module = _load_backend(backend_str)\n",
      "  File \"c:\\Users\\leoka\\AppData\\Local\\Programs\\Python\\Python313\\Lib\\site-packages\\pandas\\plotting\\_core.py\", line 1874, in _load_backend\n",
      "    raise ImportError(\n",
      "    ...<2 lines>...\n",
      "    ) from None\n",
      "ImportError: matplotlib is required for plotting when the default backend \"matplotlib\" is selected.\n"
     ]
    },
    {
     "name": "stdout",
     "output_type": "stream",
     "text": [
      "INFO:httpx:HTTP Request: POST https://api.groq.com/openai/v1/chat/completions \"HTTP/1.1 200 OK\"\n",
      "HTTP Request: POST https://api.groq.com/openai/v1/chat/completions \"HTTP/1.1 200 OK\"\n",
      "Sim, é possível plotar a distribuição das avaliações. Para fazer isso, você pode utilizar a\n",
      "biblioteca Pandas em conjunto com a biblioteca Matplotlib para criar um histograma que mostre a\n",
      "distribuição das avaliações.  Aqui está um exemplo de como você pode fazer isso:  ```python import\n",
      "pandas as pd import matplotlib.pyplot as plt  # Supondo que você tenha um DataFrame chamado 'df' com\n",
      "uma coluna 'avaliacao' df['avaliacao'].plot.hist(bins=10, figsize=(10, 6), title='Distribuição das\n",
      "Avaliações') plt.show() ```  Nesse código:  - `df['avaliacao']` seleciona a coluna 'avaliacao' do\n",
      "DataFrame. - `plot.hist()` cria um histograma da distribuição das avaliações. - `bins=10` define o\n",
      "número de intervalos (ou \"caixas\") no histograma. - `figsize=(10, 6)` define o tamanho da figura em\n",
      "polegadas. - `title='Distribuição das Avaliações'` adiciona um título à figura. - `plt.show()` é\n",
      "necessário para exibir a figura.  Certifique-se de que você tem as bibliotecas Pandas e Matplotlib\n",
      "instaladas em seu ambiente Python. Se não tiver, você pode instalá-las usando pip:  ```bash pip\n",
      "install pandas matplotlib ```  Se você estiver executando esse código em um ambiente que não suporta\n",
      "a exibição de imagens, como alguns ambientes de servidor, você precisará salvar a figura em um\n",
      "arquivo em vez de exibi-la diretamente. Você pode fazer isso substituindo `plt.show()` por:\n",
      "```python plt.savefig('distribuicao_avaliacoes.png') ```  Isso salvará a figura em um arquivo\n",
      "chamado `distribuicao_avaliacoes.png` no diretório atual.\n"
     ]
    }
   ],
   "source": [
    "response = query_engine.query('Você pode plotar a distribuição das avaliações?')\n",
    "formatar_texto(response)"
   ]
  },
  {
   "cell_type": "code",
   "execution_count": 24,
   "id": "38626b08",
   "metadata": {},
   "outputs": [
    {
     "name": "stdout",
     "output_type": "stream",
     "text": [
      "INFO:httpx:HTTP Request: POST https://api.groq.com/openai/v1/chat/completions \"HTTP/1.1 200 OK\"\n",
      "HTTP Request: POST https://api.groq.com/openai/v1/chat/completions \"HTTP/1.1 200 OK\"\n",
      "> Pandas Instructions:\n",
      "```\n",
      "df.groupby('tipo_produto')['total'].sum().sort_values(ascending=True).plot(kind='barh')\n",
      "```\n",
      "> Pandas Output: There was an error running the output as Python code. Error message: matplotlib is required for plotting when the default backend \"matplotlib\" is selected.\n"
     ]
    },
    {
     "name": "stderr",
     "output_type": "stream",
     "text": [
      "Traceback (most recent call last):\n",
      "  File \"c:\\Users\\leoka\\AppData\\Local\\Programs\\Python\\Python313\\Lib\\site-packages\\llama_index\\experimental\\query_engine\\pandas\\output_parser.py\", line 63, in default_output_processor\n",
      "    output_str = str(safe_eval(module_end_str, global_vars, local_vars))\n",
      "                     ~~~~~~~~~^^^^^^^^^^^^^^^^^^^^^^^^^^^^^^^^^^^^^^^^^\n",
      "  File \"c:\\Users\\leoka\\AppData\\Local\\Programs\\Python\\Python313\\Lib\\site-packages\\llama_index\\experimental\\exec_utils.py\", line 159, in safe_eval\n",
      "    return eval(__source, _get_restricted_globals(__globals), __locals)\n",
      "  File \"<string>\", line 1, in <module>\n",
      "  File \"c:\\Users\\leoka\\AppData\\Local\\Programs\\Python\\Python313\\Lib\\site-packages\\pandas\\plotting\\_core.py\", line 947, in __call__\n",
      "    plot_backend = _get_plot_backend(kwargs.pop(\"backend\", None))\n",
      "  File \"c:\\Users\\leoka\\AppData\\Local\\Programs\\Python\\Python313\\Lib\\site-packages\\pandas\\plotting\\_core.py\", line 1944, in _get_plot_backend\n",
      "    module = _load_backend(backend_str)\n",
      "  File \"c:\\Users\\leoka\\AppData\\Local\\Programs\\Python\\Python313\\Lib\\site-packages\\pandas\\plotting\\_core.py\", line 1874, in _load_backend\n",
      "    raise ImportError(\n",
      "    ...<2 lines>...\n",
      "    ) from None\n",
      "ImportError: matplotlib is required for plotting when the default backend \"matplotlib\" is selected.\n"
     ]
    },
    {
     "name": "stdout",
     "output_type": "stream",
     "text": [
      "INFO:httpx:HTTP Request: POST https://api.groq.com/openai/v1/chat/completions \"HTTP/1.1 200 OK\"\n",
      "HTTP Request: POST https://api.groq.com/openai/v1/chat/completions \"HTTP/1.1 200 OK\"\n",
      "Sim, é possível plotar o valor total por tipo de produto, ordenando do menor para o maior e mantendo\n",
      "as barras na horizontal. Para fazer isso, você pode usar a biblioteca pandas em conjunto com a\n",
      "biblioteca matplotlib para criar o gráfico.  Aqui está um exemplo de como você pode fazer isso:\n",
      "```python import pandas as pd import matplotlib.pyplot as plt  # Supondo que você tenha um DataFrame\n",
      "chamado 'df' com as colunas 'tipo_produto' e 'total' df = pd.DataFrame({     'tipo_produto': ['A',\n",
      "'B', 'A', 'C', 'B', 'C'],     'total': [10, 20, 15, 30, 25, 35] })  # Agrupe os dados por\n",
      "'tipo_produto' e some os valores de 'total' valor_total_por_tipo =\n",
      "df.groupby('tipo_produto')['total'].sum()  # Ordene os valores do menor para o maior\n",
      "valor_total_por_tipo = valor_total_por_tipo.sort_values(ascending=True)  # Crie o gráfico de barras\n",
      "horizontais valor_total_por_tipo.plot(kind='barh')  # Mostre o gráfico plt.show() ```  Esse código\n",
      "irá criar um gráfico de barras horizontais com o valor total por tipo de produto, ordenado do menor\n",
      "para o maior.  Se você estiver usando um ambiente Jupyter Notebook ou similar, certifique-se de que\n",
      "as bibliotecas pandas e matplotlib estejam instaladas e importadas corretamente. Além disso, se você\n",
      "estiver executando o código em um ambiente que não suporta a exibição de gráficos, você pode\n",
      "precisar salvar o gráfico em um arquivo usando o método `savefig()` da biblioteca matplotlib.\n"
     ]
    }
   ],
   "source": [
    "response = query_engine.query('''\n",
    "Você pode plotar o valor total por tipo de produto, ordenando do menor para o maior e mantendo as barras na horizontal?\n",
    "''')\n",
    "formatar_texto(response)"
   ]
  },
  {
   "cell_type": "code",
   "execution_count": 25,
   "id": "a2c38d34",
   "metadata": {},
   "outputs": [
    {
     "name": "stdout",
     "output_type": "stream",
     "text": [
      "INFO:httpx:HTTP Request: POST https://api.groq.com/openai/v1/chat/completions \"HTTP/1.1 200 OK\"\n",
      "HTTP Request: POST https://api.groq.com/openai/v1/chat/completions \"HTTP/1.1 200 OK\"\n",
      "> Pandas Instructions:\n",
      "```\n",
      "df.groupby('tipo_produto')['total'].sum().sort_values(ascending=True).plot(kind='barh')\n",
      "```\n",
      "> Pandas Output: There was an error running the output as Python code. Error message: matplotlib is required for plotting when the default backend \"matplotlib\" is selected.\n"
     ]
    },
    {
     "name": "stderr",
     "output_type": "stream",
     "text": [
      "Traceback (most recent call last):\n",
      "  File \"c:\\Users\\leoka\\AppData\\Local\\Programs\\Python\\Python313\\Lib\\site-packages\\llama_index\\experimental\\query_engine\\pandas\\output_parser.py\", line 63, in default_output_processor\n",
      "    output_str = str(safe_eval(module_end_str, global_vars, local_vars))\n",
      "                     ~~~~~~~~~^^^^^^^^^^^^^^^^^^^^^^^^^^^^^^^^^^^^^^^^^\n",
      "  File \"c:\\Users\\leoka\\AppData\\Local\\Programs\\Python\\Python313\\Lib\\site-packages\\llama_index\\experimental\\exec_utils.py\", line 159, in safe_eval\n",
      "    return eval(__source, _get_restricted_globals(__globals), __locals)\n",
      "  File \"<string>\", line 1, in <module>\n",
      "  File \"c:\\Users\\leoka\\AppData\\Local\\Programs\\Python\\Python313\\Lib\\site-packages\\pandas\\plotting\\_core.py\", line 947, in __call__\n",
      "    plot_backend = _get_plot_backend(kwargs.pop(\"backend\", None))\n",
      "  File \"c:\\Users\\leoka\\AppData\\Local\\Programs\\Python\\Python313\\Lib\\site-packages\\pandas\\plotting\\_core.py\", line 1944, in _get_plot_backend\n",
      "    module = _load_backend(backend_str)\n",
      "  File \"c:\\Users\\leoka\\AppData\\Local\\Programs\\Python\\Python313\\Lib\\site-packages\\pandas\\plotting\\_core.py\", line 1874, in _load_backend\n",
      "    raise ImportError(\n",
      "    ...<2 lines>...\n",
      "    ) from None\n",
      "ImportError: matplotlib is required for plotting when the default backend \"matplotlib\" is selected.\n"
     ]
    },
    {
     "name": "stdout",
     "output_type": "stream",
     "text": [
      "INFO:httpx:HTTP Request: POST https://api.groq.com/openai/v1/chat/completions \"HTTP/1.1 200 OK\"\n",
      "HTTP Request: POST https://api.groq.com/openai/v1/chat/completions \"HTTP/1.1 200 OK\"\n",
      "Para resolver o problema e plotar o valor total por tipo de produto, ordenando do menor para o maior\n",
      "e mantendo as barras na horizontal, você precisará ter o matplotlib instalado em seu ambiente\n",
      "Python. Aqui está uma resposta detalhada sobre como fazer isso:  1. **Instalar o Matplotlib**: Se\n",
      "você ainda não tem o matplotlib instalado, pode fazê-lo usando pip, que é o gerenciador de pacotes\n",
      "do Python. Abra seu terminal ou prompt de comando e execute o seguinte comando:    ```    pip\n",
      "install matplotlib    ```    Se você estiver usando um ambiente virtual, certifique-se de que ele\n",
      "esteja ativado antes de instalar.  2. **Importar Bibliotecas Necessárias**: No início do seu script\n",
      "Python, você precisará importar as bibliotecas necessárias. Isso inclui `pandas` para manipulação de\n",
      "dados e `matplotlib.pyplot` para plotar os gráficos.    ```python    import pandas as pd    import\n",
      "matplotlib.pyplot as plt    ```  3. **Carregar os Dados**: Certifique-se de que seus dados estejam\n",
      "carregados em um DataFrame do pandas. Se os dados estiverem em um arquivo CSV, por exemplo, você\n",
      "pode carregá-los assim:    ```python    df = pd.read_csv('seu_arquivo.csv')    ```  4. **Plotar o\n",
      "Gráfico**: Agora, você pode usar o código fornecido para plotar o gráfico. Esse código agrupa os\n",
      "dados por 'tipo_produto', soma o 'total' para cada grupo, ordena os resultados em ordem ascendente\n",
      "e, finalmente, plota um gráfico de barras horizontais.    ```python\n",
      "df.groupby('tipo_produto')['total'].sum().sort_values(ascending=True).plot(kind='barh')\n",
      "plt.show()    ```    O `plt.show()` é crucial para exibir o gráfico. Sem ele, o gráfico não será\n",
      "mostrado.  5. **Executar o Código**: Com todas as etapas anteriores concluídas, execute o seu script\n",
      "Python. Se tudo estiver configurado corretamente, você deve ver um gráfico de barras horizontais\n",
      "mostrando o valor total por tipo de produto, ordenado do menor para o maior.  Se você continuar\n",
      "enfrentando problemas, certifique-se de que: - O matplotlib está corretamente instalado. - Seu\n",
      "ambiente Python está configurado corretamente. - Seu script Python está sendo executado no contexto\n",
      "correto (por exemplo, dentro de um notebook Jupyter, ou como um script Python regular).  Espero que\n",
      "essas instruções ajudem a resolver o problema e a plotar o gráfico desejado.\n"
     ]
    }
   ],
   "source": [
    "response = query_engine.query('''Plote o valor total por tipo de produto,\n",
    "ordenando do menor para o maior e mantendo as barras na horizontal''')\n",
    "formatar_texto(response)"
   ]
  },
  {
   "cell_type": "code",
   "execution_count": 26,
   "id": "65a0945e",
   "metadata": {},
   "outputs": [
    {
     "name": "stdout",
     "output_type": "stream",
     "text": [
      "INFO:httpx:HTTP Request: POST https://api.groq.com/openai/v1/chat/completions \"HTTP/1.1 200 OK\"\n",
      "HTTP Request: POST https://api.groq.com/openai/v1/chat/completions \"HTTP/1.1 200 OK\"\n",
      "> Pandas Instructions:\n",
      "```\n",
      "df.groupby('filial')['forma_pagamento'].apply(lambda x: x.mode().iloc[0])\n",
      "```\n",
      "> Pandas Output: filial\n",
      "A    Carteira Digital\n",
      "B    Carteira Digital\n",
      "C            Dinheiro\n",
      "Name: forma_pagamento, dtype: object\n",
      "INFO:httpx:HTTP Request: POST https://api.groq.com/openai/v1/chat/completions \"HTTP/1.1 200 OK\"\n",
      "HTTP Request: POST https://api.groq.com/openai/v1/chat/completions \"HTTP/1.1 200 OK\"\n",
      "O método de pagamento mais utilizado em cada filial é o seguinte:\n",
      "\n",
      "- Na filial A, o método de pagamento mais utilizado é a Carteira Digital.\n",
      "- Na filial B, o método de pagamento mais utilizado também é a Carteira Digital.\n",
      "- Na filial C, o método de pagamento mais utilizado é o Dinheiro.\n",
      "\n",
      "Esses resultados indicam que as filiais A e B têm uma preferência por pagamentos digitais, enquanto a filial C ainda tem uma preferência por pagamentos em dinheiro.\n"
     ]
    }
   ],
   "source": [
    "response = query_engine.query('Qual é o método de pagamento mais utilizado em cada filial?')\n",
    "print(response.response)"
   ]
  },
  {
   "cell_type": "code",
   "execution_count": 27,
   "id": "93ad35ed",
   "metadata": {},
   "outputs": [
    {
     "name": "stdout",
     "output_type": "stream",
     "text": [
      "INFO:httpx:HTTP Request: POST https://api.groq.com/openai/v1/chat/completions \"HTTP/1.1 200 OK\"\n",
      "HTTP Request: POST https://api.groq.com/openai/v1/chat/completions \"HTTP/1.1 200 OK\"\n",
      "> Pandas Instructions:\n",
      "```\n",
      "df.groupby('filial')['forma_pagamento'].apply(lambda x: x.mode().iloc[0])\n",
      "```\n",
      "> Pandas Output: filial\n",
      "A    Carteira Digital\n",
      "B    Carteira Digital\n",
      "C            Dinheiro\n",
      "Name: forma_pagamento, dtype: object\n",
      "INFO:httpx:HTTP Request: POST https://api.groq.com/openai/v1/chat/completions \"HTTP/1.1 200 OK\"\n",
      "HTTP Request: POST https://api.groq.com/openai/v1/chat/completions \"HTTP/1.1 200 OK\"\n",
      "O método de pagamento mais utilizado em cada filial é o seguinte:\n",
      "\n",
      "- Na filial A, o método mais utilizado é a Carteira Digital.\n",
      "- Na filial B, o método mais utilizado também é a Carteira Digital.\n",
      "- Na filial C, o método mais utilizado é o Dinheiro.\n",
      "\n",
      "Esses resultados indicam que as filiais A e B têm uma preferência por métodos de pagamento digitais, enquanto a filial C ainda tem uma preferência por pagamentos em dinheiro.\n"
     ]
    }
   ],
   "source": [
    "response = query_engine.query('Qual é o método de pagamento mais utilizado em cada filial? Responda em português BR')\n",
    "print(response.response)"
   ]
  },
  {
   "cell_type": "code",
   "execution_count": 28,
   "id": "26b9b119",
   "metadata": {},
   "outputs": [],
   "source": [
    "# Instruções para orientar o modelo a converter uma consulta em linguagem natural em código Python executável com a biblioteca Pandas\n",
    "instruction_str = (\n",
    "    \"1. Converta a consulta para código Python executável usando Pandas.\\n\"\n",
    "    \"2. A linha final do código deve ser uma expressão Python que possa ser chamada com a função `eval()`.\\n\"\n",
    "    \"3. O código deve representar uma solução para a consulta.\\n\"\n",
    "    \"4. IMPRIMA APENAS A EXPRESSÃO.\\n\"\n",
    "    \"5. Não coloque a expressão entre aspas.\\n\")\n",
    "\n",
    "# Prompt que será enviado ao modelo para que ela gere o código Pandas desejado\n",
    "pandas_prompt_str = (\n",
    "    \"Você está trabalhando com um dataframe do pandas em Python chamado `df`.\\n\"\n",
    "    \"{colunas_detalhes}\\n\\n\"\n",
    "    \"Este é o resultado de `print(df.head())`:\\n\"\n",
    "    \"{df_str}\\n\\n\"\n",
    "    \"Siga estas instruções:\\n\"\n",
    "    \"{instruction_str}\\n\"\n",
    "    \"Consulta: {query_str}\\n\\n\"\n",
    "    \"Expressão:\"\n",
    ")\n",
    "\n",
    "# Prompt para guiar o modelo a sintetizar uma resposta com base nos resultados obtidos pela consulta Pandas\n",
    "response_synthesis_prompt_str = (\n",
    "   \"Dada uma pergunta de entrada, atue como analista de dados e elabore uma resposta a partir dos resultados da consulta.\\n\"\n",
    "   \"Responda de forma natural, sem introduções como 'A resposta é:' ou algo semelhante.\\n\"\n",
    "   \"Consulta: {query_str}\\n\\n\"\n",
    "   \"Instruções do Pandas (opcional):\\n{pandas_instructions}\\n\\n\"\n",
    "   \"Saída do Pandas: {pandas_output}\\n\\n\"\n",
    "   \"Resposta:\"\n",
    "   \"Ao final, exibir o código usado para gerar a resposta, no formato: O código utilizado foi {pandas_instructions}\"\n",
    ")"
   ]
  },
  {
   "cell_type": "code",
   "execution_count": 29,
   "id": "d535c1ca",
   "metadata": {},
   "outputs": [],
   "source": [
    "# Função para obter uma descrição das colunas do DataFrame\n",
    "def descricao_colunas(df):\n",
    "  descricao = '\\n'.join([f\"`{col}`: {str(df[col].dtype)}\" for col in df.columns])\n",
    "  return 'Aqui estão os detalhes das colunas do DataFrame:\\n' + descricao"
   ]
  },
  {
   "cell_type": "code",
   "execution_count": 30,
   "id": "3757a850",
   "metadata": {},
   "outputs": [],
   "source": [
    "from llama_index.core import PromptTemplate\n",
    "from llama_index.experimental.query_engine.pandas import PandasInstructionParser"
   ]
  },
  {
   "cell_type": "code",
   "execution_count": null,
   "id": "9a52640a",
   "metadata": {},
   "outputs": [],
   "source": [
    "pandas_prompt = PromptTemplate(pandas_prompt_str).partial_format(\n",
    "    instruction_str=instruction_str,\n",
    "    colunas_detalhes=descricao_colunas(df),\n",
    "    df_str=df.head(5))\n",
    "\n",
    "pandas_output_parser = PandasInstructionParser(df)\n",
    "\n",
    "response_synthesis_prompt = PromptTemplate(response_synthesis_prompt_str)\n",
    "\n",
    "llm = Groq(model='llama-3.3-70b-versatile', api_key=GROQ_API)"
   ]
  },
  {
   "cell_type": "code",
   "execution_count": 34,
   "id": "8c8105ac",
   "metadata": {},
   "outputs": [
    {
     "ename": "ModuleNotFoundError",
     "evalue": "No module named 'llama_index.core.query_pipeline'",
     "output_type": "error",
     "traceback": [
      "\u001b[31m---------------------------------------------------------------------------\u001b[39m",
      "\u001b[31mModuleNotFoundError\u001b[39m                       Traceback (most recent call last)",
      "\u001b[36mCell\u001b[39m\u001b[36m \u001b[39m\u001b[32mIn[34]\u001b[39m\u001b[32m, line 1\u001b[39m\n\u001b[32m----> \u001b[39m\u001b[32m1\u001b[39m \u001b[38;5;28;01mfrom\u001b[39;00m\u001b[38;5;250m \u001b[39m\u001b[34;01mllama_index\u001b[39;00m\u001b[34;01m.\u001b[39;00m\u001b[34;01mcore\u001b[39;00m\u001b[34;01m.\u001b[39;00m\u001b[34;01mquery_pipeline\u001b[39;00m\u001b[38;5;250m \u001b[39m\u001b[38;5;28;01mimport\u001b[39;00m (QueryPipeline \u001b[38;5;28;01mas\u001b[39;00m QP, Link, InputComponent)\n",
      "\u001b[31mModuleNotFoundError\u001b[39m: No module named 'llama_index.core.query_pipeline'"
     ]
    }
   ],
   "source": [
    "from llama_index.core.query_pipeline import (QueryPipeline as QP, Link, InputComponent)"
   ]
  }
 ],
 "metadata": {
  "kernelspec": {
   "display_name": "Python 3",
   "language": "python",
   "name": "python3"
  },
  "language_info": {
   "codemirror_mode": {
    "name": "ipython",
    "version": 3
   },
   "file_extension": ".py",
   "mimetype": "text/x-python",
   "name": "python",
   "nbconvert_exporter": "python",
   "pygments_lexer": "ipython3",
   "version": "3.13.7"
  }
 },
 "nbformat": 4,
 "nbformat_minor": 5
}
