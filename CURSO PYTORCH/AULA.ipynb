{
 "cells": [
  {
   "cell_type": "code",
   "execution_count": 2,
   "id": "cacfd8b3",
   "metadata": {},
   "outputs": [],
   "source": [
    "import torch"
   ]
  },
  {
   "cell_type": "code",
   "execution_count": 3,
   "id": "113a3bd5",
   "metadata": {},
   "outputs": [],
   "source": [
    "lista = [\n",
    "    [1, 2, 3],\n",
    "    [4, 5, 6]\n",
    "]"
   ]
  },
  {
   "cell_type": "code",
   "execution_count": 4,
   "id": "cf19bfec",
   "metadata": {},
   "outputs": [
    {
     "name": "stdout",
     "output_type": "stream",
     "text": [
      "torch.float32\n",
      "tensor([[1., 2., 3.],\n",
      "        [4., 5., 6.]])\n",
      "torch.float32\n",
      "tensor([[1., 2., 3.],\n",
      "        [4., 5., 6.]])\n",
      "torch.float64\n",
      "tensor([[1., 2., 3.],\n",
      "        [4., 5., 6.]], dtype=torch.float64)\n",
      "torch.int64\n",
      "tensor([[1, 2, 3],\n",
      "        [4, 5, 6]])\n"
     ]
    }
   ],
   "source": [
    "tns = torch.Tensor(lista)\n",
    "print(tns.dtype)\n",
    "print(tns)\n",
    "\n",
    "tns = torch.FloatTensor(lista)\n",
    "print(tns.dtype)\n",
    "print(tns)\n",
    "\n",
    "tns = torch.DoubleTensor(lista)\n",
    "print(tns.dtype)\n",
    "print(tns)\n",
    "\n",
    "tns = torch.LongTensor(lista)\n",
    "print(tns.dtype)\n",
    "print(tns)"
   ]
  },
  {
   "cell_type": "code",
   "execution_count": 5,
   "id": "e9eaccfa",
   "metadata": {},
   "outputs": [],
   "source": [
    "import numpy as np"
   ]
  },
  {
   "cell_type": "code",
   "execution_count": 6,
   "id": "b77cc4ad",
   "metadata": {},
   "outputs": [
    {
     "name": "stdout",
     "output_type": "stream",
     "text": [
      "[[0.74686591 0.28918333 0.68966976 0.55235497]\n",
      " [0.28335999 0.21651978 0.10576961 0.94031868]\n",
      " [0.6497119  0.37988011 0.65012432 0.76152449]]\n",
      "tensor([[0.7469, 0.2892, 0.6897, 0.5524],\n",
      "        [0.2834, 0.2165, 0.1058, 0.9403],\n",
      "        [0.6497, 0.3799, 0.6501, 0.7615]], dtype=torch.float64)\n"
     ]
    }
   ],
   "source": [
    "arr = np.random.rand(3,4)\n",
    "tns = torch.from_numpy(arr)\n",
    "\n",
    "print(arr)\n",
    "print(tns)"
   ]
  },
  {
   "cell_type": "code",
   "execution_count": 7,
   "id": "5e4bfd3d",
   "metadata": {},
   "outputs": [
    {
     "name": "stdout",
     "output_type": "stream",
     "text": [
      "tensor([[1., 1., 1.],\n",
      "        [1., 1., 1.]])\n"
     ]
    }
   ],
   "source": [
    "tns0 = torch.ones(2,3)\n",
    "print(tns0)"
   ]
  },
  {
   "cell_type": "code",
   "execution_count": 8,
   "id": "d19872af",
   "metadata": {},
   "outputs": [
    {
     "name": "stdout",
     "output_type": "stream",
     "text": [
      "tensor([[0., 0., 0.],\n",
      "        [0., 0., 0.]])\n"
     ]
    }
   ],
   "source": [
    "tns1 = torch.zeros(2,3)\n",
    "print(tns1)"
   ]
  },
  {
   "cell_type": "code",
   "execution_count": 9,
   "id": "1306723d",
   "metadata": {},
   "outputs": [
    {
     "name": "stdout",
     "output_type": "stream",
     "text": [
      "tensor([[-0.3558,  0.5965,  0.3879],\n",
      "        [-0.0036,  0.8396,  0.7825],\n",
      "        [-0.7336, -1.2041,  0.4156]])\n"
     ]
    }
   ],
   "source": [
    "tnsr = torch.randn(3,3)\n",
    "print(tnsr)"
   ]
  },
  {
   "cell_type": "code",
   "execution_count": 10,
   "id": "1a21c1bc",
   "metadata": {},
   "outputs": [
    {
     "data": {
      "text/plain": [
       "array([[ 0.924743  ,  1.8852303 , -0.06832208],\n",
       "       [ 0.32348323, -0.45561182, -1.1800282 ],\n",
       "       [ 0.25412473,  0.20067097, -0.10144923]], dtype=float32)"
      ]
     },
     "execution_count": 10,
     "metadata": {},
     "output_type": "execute_result"
    }
   ],
   "source": [
    "torch.randn(3,3).data.numpy()"
   ]
  },
  {
   "cell_type": "code",
   "execution_count": 11,
   "id": "f2b162bb",
   "metadata": {},
   "outputs": [
    {
     "name": "stdout",
     "output_type": "stream",
     "text": [
      "tensor([[-0.3558,  0.5965,  0.3879],\n",
      "        [-0.0036,  0.8396,  0.7825],\n",
      "        [-0.7336, -1.2041,  0.4156]])\n",
      "\n",
      "tensor([[-3.5582e-01,  5.9653e-01, -1.0000e+01],\n",
      "        [-3.5642e-03,  8.3963e-01,  7.8254e-01],\n",
      "        [-7.3362e-01, -1.2041e+00,  4.1564e-01]])\n",
      "\n",
      "tensor([[-3.5582e-01,  5.9653e-01, -1.0000e+01],\n",
      "        [-3.5642e-03,  8.3963e-01,  7.8254e-01]])\n",
      "\n",
      "tensor([-10.0000,   0.7825,   0.4156])\n"
     ]
    }
   ],
   "source": [
    "print(tnsr)\n",
    "tnsr[0,2] = -10\n",
    "\n",
    "print('')\n",
    "print(tnsr)\n",
    "\n",
    "print('')\n",
    "print(tnsr[0:2])\n",
    "\n",
    "print('')\n",
    "print(tnsr[:,2])"
   ]
  },
  {
   "cell_type": "code",
   "execution_count": 19,
   "id": "f171414a",
   "metadata": {},
   "outputs": [
    {
     "name": "stdout",
     "output_type": "stream",
     "text": [
      "tensor([[[-0.7568,  0.8469,  1.4069],\n",
      "         [ 1.3941,  0.3057, -0.0502]],\n",
      "\n",
      "        [[-1.3331, -0.9095,  1.0995],\n",
      "         [ 0.1977,  0.3614, -0.7334]]])\n",
      "torch.Size([2, 2, 3])\n",
      "tensor([-0.7568,  0.8469,  1.4069,  1.3941,  0.3057, -0.0502, -1.3331, -0.9095,\n",
      "         1.0995,  0.1977,  0.3614, -0.7334])\n"
     ]
    }
   ],
   "source": [
    "tns = torch.randn(2,2,3)\n",
    "\n",
    "print(tns)\n",
    "print(tns.size())\n",
    "print(tns.view(12))\n"
   ]
  },
  {
   "cell_type": "code",
   "execution_count": 21,
   "id": "36c352e7",
   "metadata": {},
   "outputs": [
    {
     "name": "stdout",
     "output_type": "stream",
     "text": [
      "cuda\n",
      "tensor([ 0.0910,  1.3540, -0.3180, -1.0293,  0.3448,  0.2787,  0.4285,  1.0569,\n",
      "        -1.1754,  0.2354], device='cuda:0')\n"
     ]
    }
   ],
   "source": [
    "tns = torch.randn(10)\n",
    "\n",
    "if torch.cuda.is_available():\n",
    "    device = torch.device('cuda')\n",
    "else:\n",
    "    device = torch.device('cpu')\n",
    "    \n",
    "print(device)\n",
    "\n",
    "tns = tns.to(device)\n",
    "print(tns)"
   ]
  }
 ],
 "metadata": {
  "kernelspec": {
   "display_name": "Python 3",
   "language": "python",
   "name": "python3"
  },
  "language_info": {
   "codemirror_mode": {
    "name": "ipython",
    "version": 3
   },
   "file_extension": ".py",
   "mimetype": "text/x-python",
   "name": "python",
   "nbconvert_exporter": "python",
   "pygments_lexer": "ipython3",
   "version": "3.13.2"
  }
 },
 "nbformat": 4,
 "nbformat_minor": 5
}
