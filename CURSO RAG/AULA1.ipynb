{
 "cells": [
  {
   "cell_type": "code",
   "execution_count": 1,
   "id": "838bd782",
   "metadata": {},
   "outputs": [],
   "source": [
    "from llama_index.core import SimpleDirectoryReader\n",
    "from llama_index.core.node_parser import SentenceSplitter\n",
    "from llama_index.embeddings.ollama import OllamaEmbedding\n",
    "import chromadb\n",
    "from typing import List\n",
    "from llama_index.vector_stores.chroma import ChromaVectorStore\n",
    "from llama_index.core import StorageContext\n",
    "from llama_index.core import VectorStoreIndex\n",
    "from llama_index.core import load_index_from_storage"
   ]
  },
  {
   "cell_type": "code",
   "execution_count": 2,
   "id": "14dc5326",
   "metadata": {},
   "outputs": [],
   "source": [
    "reader = SimpleDirectoryReader(input_dir=\"documentos\")\n",
    "\n",
    "docs = reader.load_data()\n",
    "\n",
    "node_parser = SentenceSplitter(chunk_size=1200)\n",
    "\n",
    "nodes = node_parser.get_nodes_from_documents(docs)"
   ]
  },
  {
   "cell_type": "code",
   "execution_count": null,
   "id": "e130a30c",
   "metadata": {},
   "outputs": [],
   "source": [
    "embed_model = OllamaEmbedding(\n",
    "    model_name=\"phi3:mini\",\n",
    "    base_url=\"http://localhost:11434\",\n",
    "    ollama_additional_kwargs={\"mirostat\": 0}\n",
    ")"
   ]
  },
  {
   "cell_type": "code",
   "execution_count": 4,
   "id": "46e1fc1d",
   "metadata": {},
   "outputs": [],
   "source": [
    "class LlamaIndexOllamaEmbeddingFunction:\n",
    "    def __init__(self, embed_model, name):\n",
    "        self.embed_model = embed_model\n",
    "        self.inner_name = name\n",
    "    \n",
    "    def __call__(self, input: List[str]) -> List[List[float]]:\n",
    "        try:\n",
    "            return self.embed_model.get_text_embedding_batch(input)\n",
    "        except Exception as e:\n",
    "            print(f\"Error in embedding function: {e}\")\n",
    "            return [[] for _ in input]\n",
    "    \n",
    "    def name(self) -> str:\n",
    "        return self.inner_name\n",
    "\n",
    "\n",
    "embedding_function = LlamaIndexOllamaEmbeddingFunction(embed_model, \"llama-index-ollama-embedding\")"
   ]
  },
  {
   "cell_type": "code",
   "execution_count": 5,
   "id": "d091f7ce",
   "metadata": {},
   "outputs": [
    {
     "name": "stderr",
     "output_type": "stream",
     "text": [
      "2025-09-02 14:10:53,018 - INFO - Anonymized telemetry enabled. See                     https://docs.trychroma.com/telemetry for more information.\n"
     ]
    }
   ],
   "source": [
    "db = chromadb.PersistentClient(path=\"./chroma-db\")\n",
    "\n",
    "collection_name = \"documentos\"\n",
    "\n",
    "try:\n",
    "    chroma_collection = db.get_or_create_collection(name=collection_name, embedding_function=embedding_function)\n",
    "\n",
    "except Exception as e:\n",
    "    print(f'erro ao carregar ou criar coleção: {e}')"
   ]
  },
  {
   "cell_type": "code",
   "execution_count": 6,
   "id": "de62c012",
   "metadata": {},
   "outputs": [
    {
     "name": "stderr",
     "output_type": "stream",
     "text": [
      "2025-09-02 14:11:28,286 - INFO - HTTP Request: POST http://localhost:11434/api/embed \"HTTP/1.1 200 OK\"\n",
      "2025-09-02 14:11:28,646 - INFO - HTTP Request: POST http://localhost:11434/api/embed \"HTTP/1.1 200 OK\"\n",
      "2025-09-02 14:11:29,042 - INFO - HTTP Request: POST http://localhost:11434/api/embed \"HTTP/1.1 200 OK\"\n",
      "2025-09-02 14:11:29,415 - INFO - HTTP Request: POST http://localhost:11434/api/embed \"HTTP/1.1 200 OK\"\n",
      "2025-09-02 14:11:29,759 - INFO - HTTP Request: POST http://localhost:11434/api/embed \"HTTP/1.1 200 OK\"\n",
      "2025-09-02 14:11:30,124 - INFO - HTTP Request: POST http://localhost:11434/api/embed \"HTTP/1.1 200 OK\"\n",
      "2025-09-02 14:11:30,515 - INFO - HTTP Request: POST http://localhost:11434/api/embed \"HTTP/1.1 200 OK\"\n",
      "2025-09-02 14:11:30,902 - INFO - HTTP Request: POST http://localhost:11434/api/embed \"HTTP/1.1 200 OK\"\n",
      "2025-09-02 14:11:31,322 - INFO - HTTP Request: POST http://localhost:11434/api/embed \"HTTP/1.1 200 OK\"\n",
      "2025-09-02 14:11:31,676 - INFO - HTTP Request: POST http://localhost:11434/api/embed \"HTTP/1.1 200 OK\"\n"
     ]
    }
   ],
   "source": [
    "vector_store = ChromaVectorStore(chroma_collection=chroma_collection)\n",
    "storage_context = StorageContext.from_defaults(vector_store=vector_store)\n",
    "index = VectorStoreIndex(nodes=nodes, storage_context= storage_context, embed_model=embed_model)"
   ]
  },
  {
   "cell_type": "code",
   "execution_count": 8,
   "id": "a59aa539",
   "metadata": {},
   "outputs": [
    {
     "name": "stderr",
     "output_type": "stream",
     "text": [
      "2025-09-02 14:23:35,502 - INFO - Loading all indices.\n"
     ]
    }
   ],
   "source": [
    "index = load_index_from_storage(storage_context, embed_model=embed_model)"
   ]
  }
 ],
 "metadata": {
  "kernelspec": {
   "display_name": "Python 3",
   "language": "python",
   "name": "python3"
  },
  "language_info": {
   "codemirror_mode": {
    "name": "ipython",
    "version": 3
   },
   "file_extension": ".py",
   "mimetype": "text/x-python",
   "name": "python",
   "nbconvert_exporter": "python",
   "pygments_lexer": "ipython3",
   "version": "3.13.2"
  }
 },
 "nbformat": 4,
 "nbformat_minor": 5
}
